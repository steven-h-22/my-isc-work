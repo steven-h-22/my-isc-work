{
 "cells": [
  {
   "cell_type": "code",
   "execution_count": 3,
   "id": "bfd5a6c9-dd8a-4fcb-8565-65792c32bc31",
   "metadata": {},
   "outputs": [],
   "source": [
    "ham = \"string\""
   ]
  },
  {
   "cell_type": "code",
   "execution_count": 4,
   "id": "80b1c889-4326-4145-9205-0708f3266157",
   "metadata": {},
   "outputs": [],
   "source": [
    "eggs = 1\n"
   ]
  },
  {
   "cell_type": "code",
   "execution_count": 5,
   "id": "310f2736-0cd7-473c-9da3-fc3ccddf9300",
   "metadata": {},
   "outputs": [],
   "source": [
    "hash_brown = 1.7"
   ]
  },
  {
   "cell_type": "code",
   "execution_count": 6,
   "id": "26abfe60-5999-46cb-89e3-cc9b29f5430e",
   "metadata": {},
   "outputs": [
    {
     "name": "stdout",
     "output_type": "stream",
     "text": [
      "hello\n"
     ]
    }
   ],
   "source": [
    "print('hello')"
   ]
  },
  {
   "cell_type": "code",
   "execution_count": 7,
   "id": "b248f2f2-8f03-43b3-9b49-a2a4af1fc8a9",
   "metadata": {},
   "outputs": [
    {
     "data": {
      "text/plain": [
       "'1'"
      ]
     },
     "execution_count": 7,
     "metadata": {},
     "output_type": "execute_result"
    }
   ],
   "source": [
    "str(eggs)"
   ]
  },
  {
   "cell_type": "code",
   "execution_count": 9,
   "id": "687d2af7-7fe8-45ca-90bc-376b42637ccd",
   "metadata": {},
   "outputs": [],
   "source": [
    "import pandas as pd "
   ]
  },
  {
   "cell_type": "code",
   "execution_count": 10,
   "id": "7ed8b622-a72b-4124-b8fe-a0179c95c93d",
   "metadata": {},
   "outputs": [],
   "source": [
    "weather = pd.read_csv('../data/weather.csv')"
   ]
  },
  {
   "cell_type": "code",
   "execution_count": 11,
   "id": "8528594a-75f5-4323-8ab8-1a6bc2d58cde",
   "metadata": {},
   "outputs": [
    {
     "data": {
      "text/html": [
       "<div>\n",
       "<style scoped>\n",
       "    .dataframe tbody tr th:only-of-type {\n",
       "        vertical-align: middle;\n",
       "    }\n",
       "\n",
       "    .dataframe tbody tr th {\n",
       "        vertical-align: top;\n",
       "    }\n",
       "\n",
       "    .dataframe thead th {\n",
       "        text-align: right;\n",
       "    }\n",
       "</style>\n",
       "<table border=\"1\" class=\"dataframe\">\n",
       "  <thead>\n",
       "    <tr style=\"text-align: right;\">\n",
       "      <th></th>\n",
       "      <th>Date</th>\n",
       "      <th>Time</th>\n",
       "      <th>Temp</th>\n",
       "      <th>Rainfall</th>\n",
       "    </tr>\n",
       "  </thead>\n",
       "  <tbody>\n",
       "    <tr>\n",
       "      <th>0</th>\n",
       "      <td>2014-01-01</td>\n",
       "      <td>00:00</td>\n",
       "      <td>2.34</td>\n",
       "      <td>4.45</td>\n",
       "    </tr>\n",
       "    <tr>\n",
       "      <th>1</th>\n",
       "      <td>2014-01-01</td>\n",
       "      <td>12:00</td>\n",
       "      <td>6.70</td>\n",
       "      <td>8.34</td>\n",
       "    </tr>\n",
       "    <tr>\n",
       "      <th>2</th>\n",
       "      <td>2014-01-02</td>\n",
       "      <td>00:00</td>\n",
       "      <td>-1.34</td>\n",
       "      <td>10.25</td>\n",
       "    </tr>\n",
       "  </tbody>\n",
       "</table>\n",
       "</div>"
      ],
      "text/plain": [
       "         Date   Time  Temp  Rainfall\n",
       "0  2014-01-01  00:00  2.34      4.45\n",
       "1  2014-01-01  12:00  6.70      8.34\n",
       "2  2014-01-02  00:00 -1.34     10.25"
      ]
     },
     "execution_count": 11,
     "metadata": {},
     "output_type": "execute_result"
    }
   ],
   "source": [
    "weather"
   ]
  },
  {
   "cell_type": "code",
   "execution_count": null,
   "id": "013cef92-a1be-4820-a272-160f262d2d5a",
   "metadata": {},
   "outputs": [],
   "source": []
  }
 ],
 "metadata": {
  "kernelspec": {
   "display_name": "Python 3 + Jaspy",
   "language": "python",
   "name": "jaspy"
  },
  "language_info": {
   "codemirror_mode": {
    "name": "ipython",
    "version": 3
   },
   "file_extension": ".py",
   "mimetype": "text/x-python",
   "name": "python",
   "nbconvert_exporter": "python",
   "pygments_lexer": "ipython3",
   "version": "3.11.9"
  }
 },
 "nbformat": 4,
 "nbformat_minor": 5
}
