{
 "cells": [
  {
   "cell_type": "markdown",
   "id": "5e6eded3-5a9a-41d7-b280-7f2253803328",
   "metadata": {
    "editable": true,
    "slideshow": {
     "slide_type": ""
    },
    "tags": []
   },
   "source": [
    "# Exercise 9: Lists"
   ]
  },
  {
   "cell_type": "markdown",
   "id": "07ef1eea-76ea-4414-928f-b9d91a0d5049",
   "metadata": {},
   "source": [
    "## Aim: Introduce lists and their methods."
   ]
  },
  {
   "cell_type": "markdown",
   "id": "3de752d3-ba6b-492b-8168-7312345a987f",
   "metadata": {},
   "source": [
    "### Issues covered:\n",
    "- Creating a list\n",
    "- Indexing and slicing lists\n",
    "- Using methods on lists"
   ]
  },
  {
   "cell_type": "markdown",
   "id": "f62b0617-14c6-4693-a7ea-4c479ba2c8e9",
   "metadata": {},
   "source": [
    "## 1. Creating a basic list "
   ]
  },
  {
   "cell_type": "markdown",
   "id": "d6e7b6ac-3f0d-434d-8c76-735ecb5cff0b",
   "metadata": {},
   "source": [
    "Create a list containing the values \"hello\", \"my\", \"name\", and \"is\" and print it."
   ]
  },
  {
   "cell_type": "code",
   "execution_count": 1,
   "id": "984a61be-d68f-45b7-a8dd-cc235ff21c11",
   "metadata": {
    "editable": true,
    "slideshow": {
     "slide_type": ""
    },
    "tags": [
     "clear_answer_cell"
    ]
   },
   "outputs": [
    {
     "data": {
      "text/plain": [
       "['hello', 'my', 'name', 'is']"
      ]
     },
     "execution_count": 1,
     "metadata": {},
     "output_type": "execute_result"
    }
   ],
   "source": [
    "data = [ \"hello\", \"my\", \"name\", \"is\"]\n",
    "data"
   ]
  },
  {
   "cell_type": "markdown",
   "id": "58857357-d826-468e-9754-5cde5ebd8604",
   "metadata": {},
   "source": [
    "## 2. Indexing and slicing lists"
   ]
  },
  {
   "cell_type": "markdown",
   "id": "4e6ff8c9-0e81-4b95-9208-eec5215b6588",
   "metadata": {},
   "source": [
    "Use list indexing to select the second item in the list."
   ]
  },
  {
   "cell_type": "code",
   "execution_count": 2,
   "id": "4d484239-cf45-4c81-a439-aa87bd03130f",
   "metadata": {
    "editable": true,
    "slideshow": {
     "slide_type": ""
    },
    "tags": [
     "clear_answer_cell"
    ]
   },
   "outputs": [
    {
     "data": {
      "text/plain": [
       "'my'"
      ]
     },
     "execution_count": 2,
     "metadata": {},
     "output_type": "execute_result"
    }
   ],
   "source": [
    "data[1]"
   ]
  },
  {
   "cell_type": "markdown",
   "id": "eaa2f27a-7c6e-4da7-8b29-44cd32809d95",
   "metadata": {},
   "source": [
    "Use list indexing to select the second to last item in the list."
   ]
  },
  {
   "cell_type": "code",
   "execution_count": 3,
   "id": "57a158ce-1bb8-4fbb-b824-a1b80038c870",
   "metadata": {
    "editable": true,
    "slideshow": {
     "slide_type": ""
    },
    "tags": [
     "clear_answer_cell"
    ]
   },
   "outputs": [
    {
     "data": {
      "text/plain": [
       "'name'"
      ]
     },
     "execution_count": 3,
     "metadata": {},
     "output_type": "execute_result"
    }
   ],
   "source": [
    "data[-2]"
   ]
  },
  {
   "cell_type": "markdown",
   "id": "631481bf-57a8-428b-a984-9771f9355d03",
   "metadata": {},
   "source": [
    "Use list slicing to select the whole list."
   ]
  },
  {
   "cell_type": "code",
   "execution_count": 4,
   "id": "6686b4f5-88fc-4b1b-b000-1ade788c4616",
   "metadata": {
    "editable": true,
    "slideshow": {
     "slide_type": ""
    },
    "tags": [
     "clear_answer_cell"
    ]
   },
   "outputs": [
    {
     "data": {
      "text/plain": [
       "['hello', 'my', 'name', 'is']"
      ]
     },
     "execution_count": 4,
     "metadata": {},
     "output_type": "execute_result"
    }
   ],
   "source": [
    "data[:]"
   ]
  },
  {
   "cell_type": "markdown",
   "id": "27c100d5-4f2c-4cd8-bf9f-05350585e401",
   "metadata": {},
   "source": [
    "## 3. Modifying lists and using methods"
   ]
  },
  {
   "cell_type": "markdown",
   "id": "2766b76b-2af0-41cc-8f66-31baf3cf7659",
   "metadata": {},
   "source": [
    "Add your name to the end of the list and print it."
   ]
  },
  {
   "cell_type": "code",
   "execution_count": 16,
   "id": "82e07301-0038-482e-89c5-f7a93762f542",
   "metadata": {
    "editable": true,
    "slideshow": {
     "slide_type": ""
    },
    "tags": [
     "clear_answer_cell"
    ]
   },
   "outputs": [
    {
     "data": {
      "text/plain": [
       "['hello', 'my', 'name', 'is', 'steven', 'steven', 'steven', 'steven']"
      ]
     },
     "execution_count": 16,
     "metadata": {},
     "output_type": "execute_result"
    }
   ],
   "source": [
    "data.append(\"steven\")\n",
    "data"
   ]
  },
  {
   "cell_type": "markdown",
   "id": "5329c73b-1d2f-4902-ac7c-1275db6c7046",
   "metadata": {},
   "source": [
    "Try running the cell above multiple times and see what happens to your answer."
   ]
  },
  {
   "cell_type": "markdown",
   "id": "e053c624-0e97-4b94-99eb-c4903cc1ef32",
   "metadata": {},
   "source": [
    "Remove the effects of running the cell multiple times by deleting some words. "
   ]
  },
  {
   "cell_type": "code",
   "execution_count": 17,
   "id": "78b5b6d4-2dd0-482b-9445-07553b9f3a08",
   "metadata": {
    "editable": true,
    "slideshow": {
     "slide_type": ""
    },
    "tags": [
     "clear_answer_cell"
    ]
   },
   "outputs": [
    {
     "data": {
      "text/plain": [
       "['hello', 'my', 'name', 'is', 'steven']"
      ]
     },
     "execution_count": 17,
     "metadata": {},
     "output_type": "execute_result"
    }
   ],
   "source": [
    "del data[-3:]\n",
    "data"
   ]
  },
  {
   "cell_type": "markdown",
   "id": "ad087cf7-5e6d-4aaa-9ae8-408bcdbfac5c",
   "metadata": {},
   "source": [
    "Replace the word \"name\" with \"age\" and replace your name with your age (or any number you like). Your output should look something like this:\n",
    "```\n",
    "['hello', 'my', 'age', 'is', 100]\n",
    "```"
   ]
  },
  {
   "cell_type": "code",
   "execution_count": 21,
   "id": "ddf52756-abab-4d43-ada6-577d77afa63d",
   "metadata": {
    "editable": true,
    "slideshow": {
     "slide_type": ""
    },
    "tags": [
     "clear_answer_cell"
    ]
   },
   "outputs": [
    {
     "data": {
      "text/plain": [
       "['hello', 'my', 'age', 'is', '500']"
      ]
     },
     "execution_count": 21,
     "metadata": {},
     "output_type": "execute_result"
    }
   ],
   "source": [
    "data[2] = \"age\"\n",
    "data[-1] = \"500\"\n",
    "data"
   ]
  },
  {
   "cell_type": "markdown",
   "id": "6ded3e4e-d54b-48bd-b5cb-16cd062ee54e",
   "metadata": {},
   "source": [
    "## 4. Let's create a list from a range and modify it"
   ]
  },
  {
   "cell_type": "markdown",
   "id": "90e22809-fe50-481a-9fb9-7610ac38b12b",
   "metadata": {},
   "source": [
    "Create a list `y` with values from 1 to 10 using the `range()` function."
   ]
  },
  {
   "cell_type": "code",
   "execution_count": 31,
   "id": "2724c0a8-be93-4047-810e-1fe4ac47c2a2",
   "metadata": {
    "editable": true,
    "slideshow": {
     "slide_type": ""
    },
    "tags": [
     "clear_answer_cell"
    ]
   },
   "outputs": [
    {
     "data": {
      "text/plain": [
       "[1, 2, 3, 4, 5, 6, 7, 8, 9, 10]"
      ]
     },
     "execution_count": 31,
     "metadata": {},
     "output_type": "execute_result"
    }
   ],
   "source": [
    "y = list(range(1,11))\n",
    "y"
   ]
  },
  {
   "cell_type": "markdown",
   "id": "f5a070a4-ebd0-4e19-b11b-2c446abd7b98",
   "metadata": {},
   "source": [
    "Replace the first item in the list with the value `10`. "
   ]
  },
  {
   "cell_type": "code",
   "execution_count": 32,
   "id": "f7f6e43d-7286-4bf6-9375-3efc67ec715a",
   "metadata": {
    "editable": true,
    "slideshow": {
     "slide_type": ""
    },
    "tags": [
     "clear_answer_cell"
    ]
   },
   "outputs": [
    {
     "data": {
      "text/plain": [
       "[10, 2, 3, 4, 5, 6, 7, 8, 9, 10]"
      ]
     },
     "execution_count": 32,
     "metadata": {},
     "output_type": "execute_result"
    }
   ],
   "source": [
    "y[0] = 10\n",
    "y"
   ]
  },
  {
   "cell_type": "markdown",
   "id": "eaee4ffd-9740-4898-9d53-bc2d14a49a51",
   "metadata": {},
   "source": [
    "Append the number `11` to the list."
   ]
  },
  {
   "cell_type": "code",
   "execution_count": 34,
   "id": "919dfd92-e396-4f5a-a74d-25d4bea03ac5",
   "metadata": {
    "editable": true,
    "slideshow": {
     "slide_type": ""
    },
    "tags": [
     "clear_answer_cell"
    ]
   },
   "outputs": [
    {
     "data": {
      "text/plain": [
       "[10, 2, 3, 4, 5, 6, 7, 8, 9, 10, 11, 11]"
      ]
     },
     "execution_count": 34,
     "metadata": {},
     "output_type": "execute_result"
    }
   ],
   "source": [
    "y.append(11)\n",
    "y"
   ]
  },
  {
   "cell_type": "markdown",
   "id": "24494fb9-2733-472c-ac06-85e12a870919",
   "metadata": {},
   "source": [
    "Add another list `[12, 13, 14]` to the list using the `extend` method."
   ]
  },
  {
   "cell_type": "code",
   "execution_count": 38,
   "id": "773e4fa6-5a7d-4eaa-88b9-53fe8e7ae155",
   "metadata": {
    "editable": true,
    "slideshow": {
     "slide_type": ""
    },
    "tags": [
     "clear_answer_cell"
    ]
   },
   "outputs": [
    {
     "data": {
      "text/plain": [
       "[10, 2, 3, 4, 5, 6, 7, 8, 9, 10, 11, 12, 13, 14]"
      ]
     },
     "execution_count": 38,
     "metadata": {},
     "output_type": "execute_result"
    }
   ],
   "source": [
    "y.extend([12,13,14])\n",
    "y"
   ]
  },
  {
   "cell_type": "markdown",
   "id": "c6c911ee-16d6-4fc4-beab-169eb9fd7867",
   "metadata": {},
   "source": [
    "## 5. Using list methods on character strings."
   ]
  },
  {
   "cell_type": "markdown",
   "id": "a34dd6a8-2fe9-4e34-b2b9-8507d0c7ac6e",
   "metadata": {},
   "source": [
    "Use `list()` to create a list with the characters 'software carpentry'."
   ]
  },
  {
   "cell_type": "code",
   "execution_count": 39,
   "id": "396460b9-f70d-4c0d-89cb-0b21b46c1edc",
   "metadata": {
    "editable": true,
    "slideshow": {
     "slide_type": ""
    },
    "tags": [
     "clear_answer_cell"
    ]
   },
   "outputs": [
    {
     "data": {
      "text/plain": [
       "['s',\n",
       " 'o',\n",
       " 'f',\n",
       " 't',\n",
       " 'w',\n",
       " 'a',\n",
       " 'r',\n",
       " 'e',\n",
       " ' ',\n",
       " 'c',\n",
       " 'a',\n",
       " 'r',\n",
       " 'p',\n",
       " 'e',\n",
       " 'n',\n",
       " 't',\n",
       " 'r',\n",
       " 'y']"
      ]
     },
     "execution_count": 39,
     "metadata": {},
     "output_type": "execute_result"
    }
   ],
   "source": [
    "list('software carpentry')"
   ]
  },
  {
   "cell_type": "markdown",
   "id": "105571a7-ca39-4266-ab9a-845017bac407",
   "metadata": {},
   "source": [
    "How many characters are in this string? (i.e. what is the length of the list?)"
   ]
  },
  {
   "cell_type": "code",
   "execution_count": 40,
   "id": "bbb957c0-15fb-4cc7-8d67-f265b1999cd6",
   "metadata": {
    "editable": true,
    "slideshow": {
     "slide_type": ""
    },
    "tags": [
     "clear_answer_cell"
    ]
   },
   "outputs": [
    {
     "data": {
      "text/plain": [
       "18"
      ]
     },
     "execution_count": 40,
     "metadata": {},
     "output_type": "execute_result"
    }
   ],
   "source": [
    "len(list('software carpentry'))"
   ]
  },
  {
   "cell_type": "markdown",
   "id": "23b7927c-d1aa-459b-83d6-6c960fa46f3c",
   "metadata": {},
   "source": [
    "That's quite a lot of characters. Turn it back into a string again using `.join()`."
   ]
  },
  {
   "cell_type": "code",
   "execution_count": 54,
   "id": "fbf5968c-a0df-496d-a97b-625d6133ae3d",
   "metadata": {
    "editable": true,
    "slideshow": {
     "slide_type": ""
    },
    "tags": [
     "clear_answer_cell"
    ]
   },
   "outputs": [
    {
     "data": {
      "text/plain": [
       "'software carpentry'"
      ]
     },
     "execution_count": 54,
     "metadata": {},
     "output_type": "execute_result"
    }
   ],
   "source": [
    "a = list('software carpentry')\n",
    "x = \"\".join(a)\n",
    "x"
   ]
  },
  {
   "cell_type": "markdown",
   "id": "7439020b-ee4f-4f75-9079-c74cc5e4f4cd",
   "metadata": {},
   "source": [
    "Use list slicing to print only the first word (first 8 characters) from the string."
   ]
  },
  {
   "cell_type": "code",
   "execution_count": 56,
   "id": "94d44a28-b3b7-4c4e-b21f-e65e187a09af",
   "metadata": {
    "editable": true,
    "slideshow": {
     "slide_type": ""
    },
    "tags": [
     "clear_answer_cell"
    ]
   },
   "outputs": [
    {
     "data": {
      "text/plain": [
       "'software'"
      ]
     },
     "execution_count": 56,
     "metadata": {},
     "output_type": "execute_result"
    }
   ],
   "source": [
    "x[0:8]"
   ]
  },
  {
   "cell_type": "markdown",
   "id": "95e539af-be89-491d-8638-7d2edc21b6f1",
   "metadata": {},
   "source": [
    "Print every other letter from the string - you should get `sfwr apnr`."
   ]
  },
  {
   "cell_type": "code",
   "execution_count": 60,
   "id": "66ae863c-b044-4d4f-9aa6-d53893f61878",
   "metadata": {
    "editable": true,
    "slideshow": {
     "slide_type": ""
    },
    "tags": [
     "clear_answer_cell"
    ]
   },
   "outputs": [
    {
     "data": {
      "text/plain": [
       "'sfwr apnr'"
      ]
     },
     "execution_count": 60,
     "metadata": {},
     "output_type": "execute_result"
    }
   ],
   "source": [
    "x[::2]"
   ]
  },
  {
   "cell_type": "markdown",
   "id": "4041d101-9a34-4ea0-828e-e1638460ef16",
   "metadata": {},
   "source": [
    "Print the string backwards."
   ]
  },
  {
   "cell_type": "markdown",
   "id": "7bc6968b-18c5-4b65-b6a7-e14973566c94",
   "metadata": {},
   "source": [
    "_Hint: Slicing can be written as `[low:high:stride]` and to go backwards you would need a stride of -1._"
   ]
  },
  {
   "cell_type": "code",
   "execution_count": 61,
   "id": "301a59bd-d9d9-421e-bf03-1cb8a7758033",
   "metadata": {
    "editable": true,
    "slideshow": {
     "slide_type": ""
    },
    "tags": [
     "clear_answer_cell"
    ]
   },
   "outputs": [
    {
     "data": {
      "text/plain": [
       "'yrtneprac erawtfos'"
      ]
     },
     "execution_count": 61,
     "metadata": {},
     "output_type": "execute_result"
    }
   ],
   "source": [
    "x[::-1]"
   ]
  },
  {
   "cell_type": "markdown",
   "id": "fc52df79-b367-4bb0-ab73-492d8d9dfb0e",
   "metadata": {},
   "source": [
    "First try using: \n",
    "```\n",
    "a = list('hello everybody')\n",
    "b = sorted(a)\n",
    "print(a)\n",
    "```\n",
    "Then try using:\n",
    "```\n",
    "a = list('hello everybody')\n",
    "b = a.sort()\n",
    "print(a)\n",
    "```\n",
    "Why are they different?"
   ]
  },
  {
   "cell_type": "code",
   "execution_count": 65,
   "id": "0a52d04b-ef66-44f8-8323-2028833ac34e",
   "metadata": {
    "editable": true,
    "slideshow": {
     "slide_type": ""
    },
    "tags": [
     "clear_answer_cell"
    ]
   },
   "outputs": [
    {
     "name": "stdout",
     "output_type": "stream",
     "text": [
      "[' ', 'b', 'd', 'e', 'e', 'e', 'h', 'l', 'l', 'o', 'o', 'r', 'v', 'y', 'y']\n"
     ]
    }
   ],
   "source": [
    "a = list('hello everybody')\n",
    "b = sorted(a)\n",
    "print(a)"
   ]
  },
  {
   "cell_type": "code",
   "execution_count": 66,
   "id": "f7cc2fff-aa41-40ea-b8f1-c111bcee10ee",
   "metadata": {},
   "outputs": [
    {
     "name": "stdout",
     "output_type": "stream",
     "text": [
      "[' ', 'b', 'd', 'e', 'e', 'e', 'h', 'l', 'l', 'o', 'o', 'r', 'v', 'y', 'y']\n"
     ]
    }
   ],
   "source": [
    "a = list('hello everybody')\n",
    "b = a.sort()\n",
    "print(a)"
   ]
  }
 ],
 "metadata": {
  "kernelspec": {
   "display_name": "Python 3 + Jaspy",
   "language": "python",
   "name": "jaspy"
  },
  "language_info": {
   "codemirror_mode": {
    "name": "ipython",
    "version": 3
   },
   "file_extension": ".py",
   "mimetype": "text/x-python",
   "name": "python",
   "nbconvert_exporter": "python",
   "pygments_lexer": "ipython3",
   "version": "3.11.9"
  }
 },
 "nbformat": 4,
 "nbformat_minor": 5
}
