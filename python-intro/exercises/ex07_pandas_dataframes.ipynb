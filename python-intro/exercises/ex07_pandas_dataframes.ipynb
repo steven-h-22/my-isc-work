{
 "cells": [
  {
   "cell_type": "markdown",
   "id": "32b13a1c-f1dd-455c-841a-ee51f2921d0a",
   "metadata": {
    "editable": true,
    "slideshow": {
     "slide_type": ""
    },
    "tags": []
   },
   "source": [
    "# Exercise 7: More About Pandas DataFrames"
   ]
  },
  {
   "cell_type": "markdown",
   "id": "797afb91-5e95-4bc7-b766-5264341acc8d",
   "metadata": {},
   "source": [
    "## Aim: Learn how to select certain data from a `Pandas` DataFrame."
   ]
  },
  {
   "cell_type": "markdown",
   "id": "8d617a75-0aed-42a5-b48a-5859a06aa5e2",
   "metadata": {},
   "source": [
    "### Issues covered:\n",
    "- Using `loc` and `iloc` to locate data in a dataframe\n",
    "- Slicing dataframes\n",
    "- Creating subsets and masks"
   ]
  },
  {
   "cell_type": "markdown",
   "id": "79d3722b-6d3e-4c81-85b1-367e09372551",
   "metadata": {},
   "source": [
    "## 1. Using `loc` and `iloc`"
   ]
  },
  {
   "cell_type": "markdown",
   "id": "2ffdcbe9-f516-4bd4-8022-f26c7a11dbfb",
   "metadata": {},
   "source": [
    "Create a dataframe called `data` from the CSV file `data/europe_gdp.csv` and index it by the `country` column."
   ]
  },
  {
   "cell_type": "code",
   "execution_count": 2,
   "id": "8bc94c29-5257-4c6c-b7e4-0d4c0857be5b",
   "metadata": {
    "editable": true,
    "slideshow": {
     "slide_type": ""
    },
    "tags": [
     "clear_answer_cell"
    ]
   },
   "outputs": [
    {
     "data": {
      "text/html": [
       "<div>\n",
       "<style scoped>\n",
       "    .dataframe tbody tr th:only-of-type {\n",
       "        vertical-align: middle;\n",
       "    }\n",
       "\n",
       "    .dataframe tbody tr th {\n",
       "        vertical-align: top;\n",
       "    }\n",
       "\n",
       "    .dataframe thead th {\n",
       "        text-align: right;\n",
       "    }\n",
       "</style>\n",
       "<table border=\"1\" class=\"dataframe\">\n",
       "  <thead>\n",
       "    <tr style=\"text-align: right;\">\n",
       "      <th></th>\n",
       "      <th>gdpPercap_1952</th>\n",
       "      <th>gdpPercap_1957</th>\n",
       "      <th>gdpPercap_1962</th>\n",
       "      <th>gdpPercap_1967</th>\n",
       "      <th>gdpPercap_1972</th>\n",
       "      <th>gdpPercap_1977</th>\n",
       "      <th>gdpPercap_1982</th>\n",
       "      <th>gdpPercap_1987</th>\n",
       "      <th>gdpPercap_1992</th>\n",
       "      <th>gdpPercap_1997</th>\n",
       "      <th>gdpPercap_2002</th>\n",
       "      <th>gdpPercap_2007</th>\n",
       "    </tr>\n",
       "    <tr>\n",
       "      <th>country</th>\n",
       "      <th></th>\n",
       "      <th></th>\n",
       "      <th></th>\n",
       "      <th></th>\n",
       "      <th></th>\n",
       "      <th></th>\n",
       "      <th></th>\n",
       "      <th></th>\n",
       "      <th></th>\n",
       "      <th></th>\n",
       "      <th></th>\n",
       "      <th></th>\n",
       "    </tr>\n",
       "  </thead>\n",
       "  <tbody>\n",
       "    <tr>\n",
       "      <th>Albania</th>\n",
       "      <td>1601.056136</td>\n",
       "      <td>1942.284244</td>\n",
       "      <td>2312.888958</td>\n",
       "      <td>2760.196931</td>\n",
       "      <td>3313.422188</td>\n",
       "      <td>3533.00391</td>\n",
       "      <td>3630.880722</td>\n",
       "      <td>3738.932735</td>\n",
       "      <td>2497.437901</td>\n",
       "      <td>3193.054604</td>\n",
       "      <td>4604.211737</td>\n",
       "      <td>5937.029526</td>\n",
       "    </tr>\n",
       "    <tr>\n",
       "      <th>Austria</th>\n",
       "      <td>6137.076492</td>\n",
       "      <td>8842.598030</td>\n",
       "      <td>10750.721110</td>\n",
       "      <td>12834.602400</td>\n",
       "      <td>16661.625600</td>\n",
       "      <td>19749.42230</td>\n",
       "      <td>21597.083620</td>\n",
       "      <td>23687.826070</td>\n",
       "      <td>27042.018680</td>\n",
       "      <td>29095.920660</td>\n",
       "      <td>32417.607690</td>\n",
       "      <td>36126.492700</td>\n",
       "    </tr>\n",
       "    <tr>\n",
       "      <th>Belgium</th>\n",
       "      <td>8343.105127</td>\n",
       "      <td>9714.960623</td>\n",
       "      <td>10991.206760</td>\n",
       "      <td>13149.041190</td>\n",
       "      <td>16672.143560</td>\n",
       "      <td>19117.97448</td>\n",
       "      <td>20979.845890</td>\n",
       "      <td>22525.563080</td>\n",
       "      <td>25575.570690</td>\n",
       "      <td>27561.196630</td>\n",
       "      <td>30485.883750</td>\n",
       "      <td>33692.605080</td>\n",
       "    </tr>\n",
       "  </tbody>\n",
       "</table>\n",
       "</div>"
      ],
      "text/plain": [
       "         gdpPercap_1952  gdpPercap_1957  gdpPercap_1962  gdpPercap_1967  \\\n",
       "country                                                                   \n",
       "Albania     1601.056136     1942.284244     2312.888958     2760.196931   \n",
       "Austria     6137.076492     8842.598030    10750.721110    12834.602400   \n",
       "Belgium     8343.105127     9714.960623    10991.206760    13149.041190   \n",
       "\n",
       "         gdpPercap_1972  gdpPercap_1977  gdpPercap_1982  gdpPercap_1987  \\\n",
       "country                                                                   \n",
       "Albania     3313.422188      3533.00391     3630.880722     3738.932735   \n",
       "Austria    16661.625600     19749.42230    21597.083620    23687.826070   \n",
       "Belgium    16672.143560     19117.97448    20979.845890    22525.563080   \n",
       "\n",
       "         gdpPercap_1992  gdpPercap_1997  gdpPercap_2002  gdpPercap_2007  \n",
       "country                                                                  \n",
       "Albania     2497.437901     3193.054604     4604.211737     5937.029526  \n",
       "Austria    27042.018680    29095.920660    32417.607690    36126.492700  \n",
       "Belgium    25575.570690    27561.196630    30485.883750    33692.605080  "
      ]
     },
     "execution_count": 2,
     "metadata": {},
     "output_type": "execute_result"
    }
   ],
   "source": [
    "import pandas as pd \n",
    "data = pd.read_csv('../data/europe_gdp.csv', index_col='country')\n",
    "data.head(3)"
   ]
  },
  {
   "cell_type": "markdown",
   "id": "4484598d-c091-4af8-b04e-ac6b6583cee8",
   "metadata": {},
   "source": [
    "Print out the GDP per capita for Belgium in 1957 (2nd column, 3rd row) using `iloc`."
   ]
  },
  {
   "cell_type": "markdown",
   "id": "58f9ebf2-2d9e-43ba-9411-072e4385bc5a",
   "metadata": {},
   "source": [
    "_Hint: Remember that indexing starts from 0 in Python. You should get the value `9714.960623`._"
   ]
  },
  {
   "cell_type": "code",
   "execution_count": 4,
   "id": "8ea44ab4-2cd7-4dc8-b223-74e3809175d8",
   "metadata": {
    "editable": true,
    "slideshow": {
     "slide_type": ""
    },
    "tags": [
     "clear_answer_cell"
    ]
   },
   "outputs": [
    {
     "data": {
      "text/html": [
       "<div>\n",
       "<style scoped>\n",
       "    .dataframe tbody tr th:only-of-type {\n",
       "        vertical-align: middle;\n",
       "    }\n",
       "\n",
       "    .dataframe tbody tr th {\n",
       "        vertical-align: top;\n",
       "    }\n",
       "\n",
       "    .dataframe thead th {\n",
       "        text-align: right;\n",
       "    }\n",
       "</style>\n",
       "<table border=\"1\" class=\"dataframe\">\n",
       "  <thead>\n",
       "    <tr style=\"text-align: right;\">\n",
       "      <th></th>\n",
       "      <th>gdpPercap_1957</th>\n",
       "    </tr>\n",
       "    <tr>\n",
       "      <th>country</th>\n",
       "      <th></th>\n",
       "    </tr>\n",
       "  </thead>\n",
       "  <tbody>\n",
       "    <tr>\n",
       "      <th>Austria</th>\n",
       "      <td>8842.59803</td>\n",
       "    </tr>\n",
       "  </tbody>\n",
       "</table>\n",
       "</div>"
      ],
      "text/plain": [
       "         gdpPercap_1957\n",
       "country                \n",
       "Austria      8842.59803"
      ]
     },
     "execution_count": 4,
     "metadata": {},
     "output_type": "execute_result"
    }
   ],
   "source": [
    "data.iloc[2,1]"
   ]
  },
  {
   "cell_type": "markdown",
   "id": "1349050b-7b24-4b9c-8001-efe7ded1b873",
   "metadata": {},
   "source": [
    "Use `loc` to print out GDP per capita for Belgium in 1957. You should get the same result as above."
   ]
  },
  {
   "cell_type": "code",
   "execution_count": 5,
   "id": "9a4e29b2-2be5-49c0-9be6-7ff154fc4797",
   "metadata": {
    "editable": true,
    "slideshow": {
     "slide_type": ""
    },
    "tags": [
     "clear_answer_cell"
    ]
   },
   "outputs": [
    {
     "data": {
      "text/plain": [
       "9714.960623"
      ]
     },
     "execution_count": 5,
     "metadata": {},
     "output_type": "execute_result"
    }
   ],
   "source": [
    "data.loc[\"Belgium\", \"gdpPercap_1957\"]"
   ]
  },
  {
   "cell_type": "markdown",
   "id": "967768f6-30b7-40f4-b15f-c6196e3fb462",
   "metadata": {},
   "source": [
    "Print GDP per capita for `Switzerland` for all years using `:`."
   ]
  },
  {
   "cell_type": "code",
   "execution_count": 6,
   "id": "a02c5488-2dda-4c6d-ae72-5894aba452c5",
   "metadata": {
    "editable": true,
    "slideshow": {
     "slide_type": ""
    },
    "tags": [
     "clear_answer_cell"
    ]
   },
   "outputs": [
    {
     "data": {
      "text/plain": [
       "gdpPercap_1952    14734.23275\n",
       "gdpPercap_1957    17909.48973\n",
       "gdpPercap_1962    20431.09270\n",
       "gdpPercap_1967    22966.14432\n",
       "gdpPercap_1972    27195.11304\n",
       "gdpPercap_1977    26982.29052\n",
       "gdpPercap_1982    28397.71512\n",
       "gdpPercap_1987    30281.70459\n",
       "gdpPercap_1992    31871.53030\n",
       "gdpPercap_1997    32135.32301\n",
       "gdpPercap_2002    34480.95771\n",
       "gdpPercap_2007    37506.41907\n",
       "Name: Switzerland, dtype: float64"
      ]
     },
     "execution_count": 6,
     "metadata": {},
     "output_type": "execute_result"
    }
   ],
   "source": [
    "data.loc[\"Switzerland\", :]"
   ]
  },
  {
   "cell_type": "markdown",
   "id": "2297bf59-1726-40c1-a97f-9ec8818cbe7e",
   "metadata": {},
   "source": [
    "Print out GDP per capita in 1987 for all countries."
   ]
  },
  {
   "cell_type": "code",
   "execution_count": 7,
   "id": "f05af7ea-16f1-4d04-94b3-f093d424d4be",
   "metadata": {
    "editable": true,
    "slideshow": {
     "slide_type": ""
    },
    "tags": [
     "clear_answer_cell"
    ]
   },
   "outputs": [
    {
     "data": {
      "text/plain": [
       "country\n",
       "Albania                    3738.932735\n",
       "Austria                   23687.826070\n",
       "Belgium                   22525.563080\n",
       "Bosnia and Herzegovina     4314.114757\n",
       "Bulgaria                   8239.854824\n",
       "Croatia                   13822.583940\n",
       "Czech Republic            16310.443400\n",
       "Denmark                   25116.175810\n",
       "Finland                   21141.012230\n",
       "France                    22066.442140\n",
       "Germany                   24639.185660\n",
       "Greece                    16120.528390\n",
       "Hungary                   12986.479980\n",
       "Iceland                   26923.206280\n",
       "Ireland                   13872.866520\n",
       "Italy                     19207.234820\n",
       "Montenegro                11732.510170\n",
       "Netherlands               23651.323610\n",
       "Norway                    31540.974800\n",
       "Poland                     9082.351172\n",
       "Portugal                  13039.308760\n",
       "Romania                    9696.273295\n",
       "Serbia                    15870.878510\n",
       "Slovak Republic           12037.267580\n",
       "Slovenia                  18678.534920\n",
       "Spain                     15764.983130\n",
       "Sweden                    23586.929270\n",
       "Switzerland               30281.704590\n",
       "Turkey                     5089.043686\n",
       "United Kingdom            21664.787670\n",
       "Name: gdpPercap_1987, dtype: float64"
      ]
     },
     "execution_count": 7,
     "metadata": {},
     "output_type": "execute_result"
    }
   ],
   "source": [
    "data.loc[:, \"gdpPercap_1987\"]"
   ]
  },
  {
   "cell_type": "markdown",
   "id": "7433bb77-8c7a-431a-8ad6-8c513dc6a1e9",
   "metadata": {},
   "source": [
    "Print out a slice of the data frame which shows GDP for countries between Denmark to Iceland from 1982 to 1992. "
   ]
  },
  {
   "cell_type": "code",
   "execution_count": 9,
   "id": "82eec90b-0537-419e-9821-19a887db168c",
   "metadata": {
    "editable": true,
    "slideshow": {
     "slide_type": ""
    },
    "tags": [
     "clear_answer_cell"
    ]
   },
   "outputs": [
    {
     "data": {
      "text/html": [
       "<div>\n",
       "<style scoped>\n",
       "    .dataframe tbody tr th:only-of-type {\n",
       "        vertical-align: middle;\n",
       "    }\n",
       "\n",
       "    .dataframe tbody tr th {\n",
       "        vertical-align: top;\n",
       "    }\n",
       "\n",
       "    .dataframe thead th {\n",
       "        text-align: right;\n",
       "    }\n",
       "</style>\n",
       "<table border=\"1\" class=\"dataframe\">\n",
       "  <thead>\n",
       "    <tr style=\"text-align: right;\">\n",
       "      <th></th>\n",
       "      <th>gdpPercap_1982</th>\n",
       "      <th>gdpPercap_1987</th>\n",
       "      <th>gdpPercap_1992</th>\n",
       "    </tr>\n",
       "    <tr>\n",
       "      <th>country</th>\n",
       "      <th></th>\n",
       "      <th></th>\n",
       "      <th></th>\n",
       "    </tr>\n",
       "  </thead>\n",
       "  <tbody>\n",
       "    <tr>\n",
       "      <th>Denmark</th>\n",
       "      <td>21688.04048</td>\n",
       "      <td>25116.17581</td>\n",
       "      <td>26406.73985</td>\n",
       "    </tr>\n",
       "    <tr>\n",
       "      <th>Finland</th>\n",
       "      <td>18533.15761</td>\n",
       "      <td>21141.01223</td>\n",
       "      <td>20647.16499</td>\n",
       "    </tr>\n",
       "    <tr>\n",
       "      <th>France</th>\n",
       "      <td>20293.89746</td>\n",
       "      <td>22066.44214</td>\n",
       "      <td>24703.79615</td>\n",
       "    </tr>\n",
       "    <tr>\n",
       "      <th>Germany</th>\n",
       "      <td>22031.53274</td>\n",
       "      <td>24639.18566</td>\n",
       "      <td>26505.30317</td>\n",
       "    </tr>\n",
       "    <tr>\n",
       "      <th>Greece</th>\n",
       "      <td>15268.42089</td>\n",
       "      <td>16120.52839</td>\n",
       "      <td>17541.49634</td>\n",
       "    </tr>\n",
       "    <tr>\n",
       "      <th>Hungary</th>\n",
       "      <td>12545.99066</td>\n",
       "      <td>12986.47998</td>\n",
       "      <td>10535.62855</td>\n",
       "    </tr>\n",
       "    <tr>\n",
       "      <th>Iceland</th>\n",
       "      <td>23269.60750</td>\n",
       "      <td>26923.20628</td>\n",
       "      <td>25144.39201</td>\n",
       "    </tr>\n",
       "  </tbody>\n",
       "</table>\n",
       "</div>"
      ],
      "text/plain": [
       "         gdpPercap_1982  gdpPercap_1987  gdpPercap_1992\n",
       "country                                                \n",
       "Denmark     21688.04048     25116.17581     26406.73985\n",
       "Finland     18533.15761     21141.01223     20647.16499\n",
       "France      20293.89746     22066.44214     24703.79615\n",
       "Germany     22031.53274     24639.18566     26505.30317\n",
       "Greece      15268.42089     16120.52839     17541.49634\n",
       "Hungary     12545.99066     12986.47998     10535.62855\n",
       "Iceland     23269.60750     26923.20628     25144.39201"
      ]
     },
     "execution_count": 9,
     "metadata": {},
     "output_type": "execute_result"
    }
   ],
   "source": [
    "data.loc[\"Denmark\":\"Iceland\", \"gdpPercap_1982\":\"gdpPercap_1992\"]"
   ]
  },
  {
   "cell_type": "markdown",
   "id": "d0a7041f-1496-4738-9765-26d8ffdb997a",
   "metadata": {},
   "source": [
    "Print out the last 3 columns for the last 3 rows of countries."
   ]
  },
  {
   "cell_type": "code",
   "execution_count": 14,
   "id": "8a524211-5370-425c-8a61-2da43a8142ec",
   "metadata": {
    "editable": true,
    "slideshow": {
     "slide_type": ""
    },
    "tags": [
     "clear_answer_cell"
    ]
   },
   "outputs": [
    {
     "data": {
      "text/html": [
       "<div>\n",
       "<style scoped>\n",
       "    .dataframe tbody tr th:only-of-type {\n",
       "        vertical-align: middle;\n",
       "    }\n",
       "\n",
       "    .dataframe tbody tr th {\n",
       "        vertical-align: top;\n",
       "    }\n",
       "\n",
       "    .dataframe thead th {\n",
       "        text-align: right;\n",
       "    }\n",
       "</style>\n",
       "<table border=\"1\" class=\"dataframe\">\n",
       "  <thead>\n",
       "    <tr style=\"text-align: right;\">\n",
       "      <th></th>\n",
       "      <th>gdpPercap_1997</th>\n",
       "      <th>gdpPercap_2002</th>\n",
       "      <th>gdpPercap_2007</th>\n",
       "    </tr>\n",
       "    <tr>\n",
       "      <th>country</th>\n",
       "      <th></th>\n",
       "      <th></th>\n",
       "      <th></th>\n",
       "    </tr>\n",
       "  </thead>\n",
       "  <tbody>\n",
       "    <tr>\n",
       "      <th>Switzerland</th>\n",
       "      <td>32135.323010</td>\n",
       "      <td>34480.957710</td>\n",
       "      <td>37506.419070</td>\n",
       "    </tr>\n",
       "    <tr>\n",
       "      <th>Turkey</th>\n",
       "      <td>6601.429915</td>\n",
       "      <td>6508.085718</td>\n",
       "      <td>8458.276384</td>\n",
       "    </tr>\n",
       "    <tr>\n",
       "      <th>United Kingdom</th>\n",
       "      <td>26074.531360</td>\n",
       "      <td>29478.999190</td>\n",
       "      <td>33203.261280</td>\n",
       "    </tr>\n",
       "  </tbody>\n",
       "</table>\n",
       "</div>"
      ],
      "text/plain": [
       "                gdpPercap_1997  gdpPercap_2002  gdpPercap_2007\n",
       "country                                                       \n",
       "Switzerland       32135.323010    34480.957710    37506.419070\n",
       "Turkey             6601.429915     6508.085718     8458.276384\n",
       "United Kingdom    26074.531360    29478.999190    33203.261280"
      ]
     },
     "execution_count": 14,
     "metadata": {},
     "output_type": "execute_result"
    }
   ],
   "source": [
    "data.iloc[-3:, -3:]"
   ]
  },
  {
   "cell_type": "markdown",
   "id": "85dd99ef-f3a2-4012-817d-319df3c5fea8",
   "metadata": {},
   "source": [
    "What are the maximum GDP values between 1997-2007 for the last 3 countries alphabetically? "
   ]
  },
  {
   "cell_type": "code",
   "execution_count": 15,
   "id": "c4c6cd1b-b83d-421f-b7e4-bcdf7d42fdda",
   "metadata": {
    "editable": true,
    "slideshow": {
     "slide_type": ""
    },
    "tags": [
     "clear_answer_cell"
    ]
   },
   "outputs": [
    {
     "data": {
      "text/plain": [
       "gdpPercap_1997    32135.32301\n",
       "gdpPercap_2002    34480.95771\n",
       "gdpPercap_2007    37506.41907\n",
       "dtype: float64"
      ]
     },
     "execution_count": 15,
     "metadata": {},
     "output_type": "execute_result"
    }
   ],
   "source": [
    "data.iloc[-3:, -3:].max()"
   ]
  },
  {
   "cell_type": "markdown",
   "id": "d8ccfd82-f09b-40ae-84b4-bf3c578009d4",
   "metadata": {},
   "source": [
    "## 2. Creating subsets and masks"
   ]
  },
  {
   "cell_type": "markdown",
   "id": "88ae8007-52d2-41ee-b559-9b44571457d3",
   "metadata": {},
   "source": [
    "Create a variable called `subset` which contains only the data for Hungary to Netherlands between 1962 and 1972. Print out the subset."
   ]
  },
  {
   "cell_type": "code",
   "execution_count": 19,
   "id": "d97d35c2-d7f4-44df-986c-5aa79ffcf18c",
   "metadata": {
    "editable": true,
    "slideshow": {
     "slide_type": ""
    },
    "tags": [
     "clear_answer_cell"
    ]
   },
   "outputs": [
    {
     "data": {
      "text/html": [
       "<div>\n",
       "<style scoped>\n",
       "    .dataframe tbody tr th:only-of-type {\n",
       "        vertical-align: middle;\n",
       "    }\n",
       "\n",
       "    .dataframe tbody tr th {\n",
       "        vertical-align: top;\n",
       "    }\n",
       "\n",
       "    .dataframe thead th {\n",
       "        text-align: right;\n",
       "    }\n",
       "</style>\n",
       "<table border=\"1\" class=\"dataframe\">\n",
       "  <thead>\n",
       "    <tr style=\"text-align: right;\">\n",
       "      <th></th>\n",
       "      <th>gdpPercap_1962</th>\n",
       "      <th>gdpPercap_1967</th>\n",
       "      <th>gdpPercap_1972</th>\n",
       "    </tr>\n",
       "    <tr>\n",
       "      <th>country</th>\n",
       "      <th></th>\n",
       "      <th></th>\n",
       "      <th></th>\n",
       "    </tr>\n",
       "  </thead>\n",
       "  <tbody>\n",
       "    <tr>\n",
       "      <th>Hungary</th>\n",
       "      <td>7550.359877</td>\n",
       "      <td>9326.644670</td>\n",
       "      <td>10168.656110</td>\n",
       "    </tr>\n",
       "    <tr>\n",
       "      <th>Iceland</th>\n",
       "      <td>10350.159060</td>\n",
       "      <td>13319.895680</td>\n",
       "      <td>15798.063620</td>\n",
       "    </tr>\n",
       "    <tr>\n",
       "      <th>Ireland</th>\n",
       "      <td>6631.597314</td>\n",
       "      <td>7655.568963</td>\n",
       "      <td>9530.772896</td>\n",
       "    </tr>\n",
       "    <tr>\n",
       "      <th>Italy</th>\n",
       "      <td>8243.582340</td>\n",
       "      <td>10022.401310</td>\n",
       "      <td>12269.273780</td>\n",
       "    </tr>\n",
       "    <tr>\n",
       "      <th>Montenegro</th>\n",
       "      <td>4649.593785</td>\n",
       "      <td>5907.850937</td>\n",
       "      <td>7778.414017</td>\n",
       "    </tr>\n",
       "    <tr>\n",
       "      <th>Netherlands</th>\n",
       "      <td>12790.849560</td>\n",
       "      <td>15363.251360</td>\n",
       "      <td>18794.745670</td>\n",
       "    </tr>\n",
       "  </tbody>\n",
       "</table>\n",
       "</div>"
      ],
      "text/plain": [
       "             gdpPercap_1962  gdpPercap_1967  gdpPercap_1972\n",
       "country                                                    \n",
       "Hungary         7550.359877     9326.644670    10168.656110\n",
       "Iceland        10350.159060    13319.895680    15798.063620\n",
       "Ireland         6631.597314     7655.568963     9530.772896\n",
       "Italy           8243.582340    10022.401310    12269.273780\n",
       "Montenegro      4649.593785     5907.850937     7778.414017\n",
       "Netherlands    12790.849560    15363.251360    18794.745670"
      ]
     },
     "execution_count": 19,
     "metadata": {},
     "output_type": "execute_result"
    }
   ],
   "source": [
    "subset = data.loc[\"Hungary\":\"Netherlands\", \"gdpPercap_1962\":\"gdpPercap_1972\"]\n",
    "subset"
   ]
  },
  {
   "cell_type": "markdown",
   "id": "f4c19abd-7571-452f-96cf-d23df1b1d193",
   "metadata": {},
   "source": [
    "Return a dataframe of boolean (`True` or `False`) values showing where the GDP values are greater than 10000. "
   ]
  },
  {
   "cell_type": "code",
   "execution_count": 22,
   "id": "a0e7a0a4-36bc-475a-bdd8-1741453fd535",
   "metadata": {
    "editable": true,
    "slideshow": {
     "slide_type": ""
    },
    "tags": [
     "clear_answer_cell"
    ]
   },
   "outputs": [
    {
     "data": {
      "text/html": [
       "<div>\n",
       "<style scoped>\n",
       "    .dataframe tbody tr th:only-of-type {\n",
       "        vertical-align: middle;\n",
       "    }\n",
       "\n",
       "    .dataframe tbody tr th {\n",
       "        vertical-align: top;\n",
       "    }\n",
       "\n",
       "    .dataframe thead th {\n",
       "        text-align: right;\n",
       "    }\n",
       "</style>\n",
       "<table border=\"1\" class=\"dataframe\">\n",
       "  <thead>\n",
       "    <tr style=\"text-align: right;\">\n",
       "      <th></th>\n",
       "      <th>gdpPercap_1962</th>\n",
       "      <th>gdpPercap_1967</th>\n",
       "      <th>gdpPercap_1972</th>\n",
       "    </tr>\n",
       "    <tr>\n",
       "      <th>country</th>\n",
       "      <th></th>\n",
       "      <th></th>\n",
       "      <th></th>\n",
       "    </tr>\n",
       "  </thead>\n",
       "  <tbody>\n",
       "    <tr>\n",
       "      <th>Hungary</th>\n",
       "      <td>False</td>\n",
       "      <td>False</td>\n",
       "      <td>True</td>\n",
       "    </tr>\n",
       "    <tr>\n",
       "      <th>Iceland</th>\n",
       "      <td>True</td>\n",
       "      <td>True</td>\n",
       "      <td>True</td>\n",
       "    </tr>\n",
       "    <tr>\n",
       "      <th>Ireland</th>\n",
       "      <td>False</td>\n",
       "      <td>False</td>\n",
       "      <td>False</td>\n",
       "    </tr>\n",
       "    <tr>\n",
       "      <th>Italy</th>\n",
       "      <td>False</td>\n",
       "      <td>True</td>\n",
       "      <td>True</td>\n",
       "    </tr>\n",
       "    <tr>\n",
       "      <th>Montenegro</th>\n",
       "      <td>False</td>\n",
       "      <td>False</td>\n",
       "      <td>False</td>\n",
       "    </tr>\n",
       "    <tr>\n",
       "      <th>Netherlands</th>\n",
       "      <td>True</td>\n",
       "      <td>True</td>\n",
       "      <td>True</td>\n",
       "    </tr>\n",
       "  </tbody>\n",
       "</table>\n",
       "</div>"
      ],
      "text/plain": [
       "             gdpPercap_1962  gdpPercap_1967  gdpPercap_1972\n",
       "country                                                    \n",
       "Hungary               False           False            True\n",
       "Iceland                True            True            True\n",
       "Ireland               False           False           False\n",
       "Italy                 False            True            True\n",
       "Montenegro            False           False           False\n",
       "Netherlands            True            True            True"
      ]
     },
     "execution_count": 22,
     "metadata": {},
     "output_type": "execute_result"
    }
   ],
   "source": [
    "mask = subset > 10000\n",
    "mask"
   ]
  },
  {
   "cell_type": "markdown",
   "id": "1a481d2b-d49e-4a20-af9c-fd312b5b8f3d",
   "metadata": {},
   "source": [
    "Create a boolean mask for the above and print the result of applying this to the subset."
   ]
  },
  {
   "cell_type": "code",
   "execution_count": 23,
   "id": "cecf6848-5ae4-4726-a393-4a94ec16c949",
   "metadata": {
    "editable": true,
    "slideshow": {
     "slide_type": ""
    },
    "tags": [
     "clear_answer_cell"
    ]
   },
   "outputs": [
    {
     "data": {
      "text/html": [
       "<div>\n",
       "<style scoped>\n",
       "    .dataframe tbody tr th:only-of-type {\n",
       "        vertical-align: middle;\n",
       "    }\n",
       "\n",
       "    .dataframe tbody tr th {\n",
       "        vertical-align: top;\n",
       "    }\n",
       "\n",
       "    .dataframe thead th {\n",
       "        text-align: right;\n",
       "    }\n",
       "</style>\n",
       "<table border=\"1\" class=\"dataframe\">\n",
       "  <thead>\n",
       "    <tr style=\"text-align: right;\">\n",
       "      <th></th>\n",
       "      <th>gdpPercap_1962</th>\n",
       "      <th>gdpPercap_1967</th>\n",
       "      <th>gdpPercap_1972</th>\n",
       "    </tr>\n",
       "    <tr>\n",
       "      <th>country</th>\n",
       "      <th></th>\n",
       "      <th></th>\n",
       "      <th></th>\n",
       "    </tr>\n",
       "  </thead>\n",
       "  <tbody>\n",
       "    <tr>\n",
       "      <th>Hungary</th>\n",
       "      <td>NaN</td>\n",
       "      <td>NaN</td>\n",
       "      <td>10168.65611</td>\n",
       "    </tr>\n",
       "    <tr>\n",
       "      <th>Iceland</th>\n",
       "      <td>10350.15906</td>\n",
       "      <td>13319.89568</td>\n",
       "      <td>15798.06362</td>\n",
       "    </tr>\n",
       "    <tr>\n",
       "      <th>Ireland</th>\n",
       "      <td>NaN</td>\n",
       "      <td>NaN</td>\n",
       "      <td>NaN</td>\n",
       "    </tr>\n",
       "    <tr>\n",
       "      <th>Italy</th>\n",
       "      <td>NaN</td>\n",
       "      <td>10022.40131</td>\n",
       "      <td>12269.27378</td>\n",
       "    </tr>\n",
       "    <tr>\n",
       "      <th>Montenegro</th>\n",
       "      <td>NaN</td>\n",
       "      <td>NaN</td>\n",
       "      <td>NaN</td>\n",
       "    </tr>\n",
       "    <tr>\n",
       "      <th>Netherlands</th>\n",
       "      <td>12790.84956</td>\n",
       "      <td>15363.25136</td>\n",
       "      <td>18794.74567</td>\n",
       "    </tr>\n",
       "  </tbody>\n",
       "</table>\n",
       "</div>"
      ],
      "text/plain": [
       "             gdpPercap_1962  gdpPercap_1967  gdpPercap_1972\n",
       "country                                                    \n",
       "Hungary                 NaN             NaN     10168.65611\n",
       "Iceland         10350.15906     13319.89568     15798.06362\n",
       "Ireland                 NaN             NaN             NaN\n",
       "Italy                   NaN     10022.40131     12269.27378\n",
       "Montenegro              NaN             NaN             NaN\n",
       "Netherlands     12790.84956     15363.25136     18794.74567"
      ]
     },
     "execution_count": 23,
     "metadata": {},
     "output_type": "execute_result"
    }
   ],
   "source": [
    "subset[mask]"
   ]
  },
  {
   "cell_type": "markdown",
   "id": "6a165f68-4ba4-4af9-8874-3b57a681491d",
   "metadata": {},
   "source": [
    "What is the mean and standard deviation of the mask applied to this subset?"
   ]
  },
  {
   "cell_type": "code",
   "execution_count": 24,
   "id": "7d39bf41-2d9a-4de4-b6e6-8d8c1af1e7b9",
   "metadata": {
    "editable": true,
    "slideshow": {
     "slide_type": ""
    },
    "tags": [
     "clear_answer_cell"
    ]
   },
   "outputs": [
    {
     "data": {
      "text/html": [
       "<div>\n",
       "<style scoped>\n",
       "    .dataframe tbody tr th:only-of-type {\n",
       "        vertical-align: middle;\n",
       "    }\n",
       "\n",
       "    .dataframe tbody tr th {\n",
       "        vertical-align: top;\n",
       "    }\n",
       "\n",
       "    .dataframe thead th {\n",
       "        text-align: right;\n",
       "    }\n",
       "</style>\n",
       "<table border=\"1\" class=\"dataframe\">\n",
       "  <thead>\n",
       "    <tr style=\"text-align: right;\">\n",
       "      <th></th>\n",
       "      <th>gdpPercap_1962</th>\n",
       "      <th>gdpPercap_1967</th>\n",
       "      <th>gdpPercap_1972</th>\n",
       "    </tr>\n",
       "  </thead>\n",
       "  <tbody>\n",
       "    <tr>\n",
       "      <th>count</th>\n",
       "      <td>2.000000</td>\n",
       "      <td>3.000000</td>\n",
       "      <td>4.000000</td>\n",
       "    </tr>\n",
       "    <tr>\n",
       "      <th>mean</th>\n",
       "      <td>11570.504310</td>\n",
       "      <td>12901.849450</td>\n",
       "      <td>14257.684795</td>\n",
       "    </tr>\n",
       "    <tr>\n",
       "      <th>std</th>\n",
       "      <td>1725.828803</td>\n",
       "      <td>2694.854690</td>\n",
       "      <td>3813.643151</td>\n",
       "    </tr>\n",
       "    <tr>\n",
       "      <th>min</th>\n",
       "      <td>10350.159060</td>\n",
       "      <td>10022.401310</td>\n",
       "      <td>10168.656110</td>\n",
       "    </tr>\n",
       "    <tr>\n",
       "      <th>25%</th>\n",
       "      <td>10960.331685</td>\n",
       "      <td>11671.148495</td>\n",
       "      <td>11744.119362</td>\n",
       "    </tr>\n",
       "    <tr>\n",
       "      <th>50%</th>\n",
       "      <td>11570.504310</td>\n",
       "      <td>13319.895680</td>\n",
       "      <td>14033.668700</td>\n",
       "    </tr>\n",
       "    <tr>\n",
       "      <th>75%</th>\n",
       "      <td>12180.676935</td>\n",
       "      <td>14341.573520</td>\n",
       "      <td>16547.234133</td>\n",
       "    </tr>\n",
       "    <tr>\n",
       "      <th>max</th>\n",
       "      <td>12790.849560</td>\n",
       "      <td>15363.251360</td>\n",
       "      <td>18794.745670</td>\n",
       "    </tr>\n",
       "  </tbody>\n",
       "</table>\n",
       "</div>"
      ],
      "text/plain": [
       "       gdpPercap_1962  gdpPercap_1967  gdpPercap_1972\n",
       "count        2.000000        3.000000        4.000000\n",
       "mean     11570.504310    12901.849450    14257.684795\n",
       "std       1725.828803     2694.854690     3813.643151\n",
       "min      10350.159060    10022.401310    10168.656110\n",
       "25%      10960.331685    11671.148495    11744.119362\n",
       "50%      11570.504310    13319.895680    14033.668700\n",
       "75%      12180.676935    14341.573520    16547.234133\n",
       "max      12790.849560    15363.251360    18794.745670"
      ]
     },
     "execution_count": 24,
     "metadata": {},
     "output_type": "execute_result"
    }
   ],
   "source": [
    "subset[mask].describe()"
   ]
  },
  {
   "cell_type": "markdown",
   "id": "8b51e7c6-32ae-410d-9a97-7133c985fbd5",
   "metadata": {},
   "source": [
    "## 3. Extension Questions"
   ]
  },
  {
   "cell_type": "markdown",
   "id": "12ca99b8-de0e-48ea-9821-2045f4762f11",
   "metadata": {},
   "source": [
    "1. Find the index of the maximum for each column of the dataset. "
   ]
  },
  {
   "cell_type": "markdown",
   "id": "dc95aba8-54e7-4e7b-8a2b-fe135af11f98",
   "metadata": {},
   "source": [
    "_Hint: You will need to make use of `idxmax()`._"
   ]
  },
  {
   "cell_type": "code",
   "execution_count": 28,
   "id": "9713081c-49e4-482a-9a69-ad8b3447111e",
   "metadata": {
    "editable": true,
    "slideshow": {
     "slide_type": ""
    },
    "tags": [
     "clear_answer_cell"
    ]
   },
   "outputs": [
    {
     "data": {
      "text/plain": [
       "gdpPercap_1952    Switzerland\n",
       "gdpPercap_1957    Switzerland\n",
       "gdpPercap_1962    Switzerland\n",
       "gdpPercap_1967    Switzerland\n",
       "gdpPercap_1972    Switzerland\n",
       "gdpPercap_1977    Switzerland\n",
       "gdpPercap_1982    Switzerland\n",
       "gdpPercap_1987         Norway\n",
       "gdpPercap_1992         Norway\n",
       "gdpPercap_1997         Norway\n",
       "gdpPercap_2002         Norway\n",
       "gdpPercap_2007         Norway\n",
       "dtype: object"
      ]
     },
     "execution_count": 28,
     "metadata": {},
     "output_type": "execute_result"
    }
   ],
   "source": [
    "data.idxmax()"
   ]
  },
  {
   "cell_type": "markdown",
   "id": "0ae616dd-09fd-4b72-9964-825b34c7995d",
   "metadata": {},
   "source": [
    "2. Similarly, find the index of the minimum for each column of the dataset."
   ]
  },
  {
   "cell_type": "markdown",
   "id": "7c4c39ff-f507-421d-a691-6e4aab835839",
   "metadata": {},
   "source": [
    "_Hint: You will need to make use of `idxmin()`._"
   ]
  },
  {
   "cell_type": "code",
   "execution_count": 30,
   "id": "199d7efe-7ba1-4129-ba0b-470ec32496e6",
   "metadata": {
    "editable": true,
    "slideshow": {
     "slide_type": ""
    },
    "tags": [
     "clear_answer_cell"
    ]
   },
   "outputs": [
    {
     "data": {
      "text/plain": [
       "gdpPercap_1952    Bosnia and Herzegovina\n",
       "gdpPercap_1957    Bosnia and Herzegovina\n",
       "gdpPercap_1962    Bosnia and Herzegovina\n",
       "gdpPercap_1967    Bosnia and Herzegovina\n",
       "gdpPercap_1972    Bosnia and Herzegovina\n",
       "gdpPercap_1977    Bosnia and Herzegovina\n",
       "gdpPercap_1982                   Albania\n",
       "gdpPercap_1987                   Albania\n",
       "gdpPercap_1992                   Albania\n",
       "gdpPercap_1997                   Albania\n",
       "gdpPercap_2002                   Albania\n",
       "gdpPercap_2007                   Albania\n",
       "dtype: object"
      ]
     },
     "execution_count": 30,
     "metadata": {},
     "output_type": "execute_result"
    }
   ],
   "source": [
    "data.idxmin()"
   ]
  },
  {
   "cell_type": "markdown",
   "id": "7c23f6c6-7a98-495e-885e-165d077979d0",
   "metadata": {},
   "source": [
    "3. Print out the median GDP per capita across all countries for each year."
   ]
  },
  {
   "cell_type": "markdown",
   "id": "04c33f7d-0c99-4cba-8ae2-cbc3f3fae2b8",
   "metadata": {},
   "source": [
    "_Hint: Use `median()`._"
   ]
  },
  {
   "cell_type": "code",
   "execution_count": 37,
   "id": "c974d6eb-93bb-4d34-81a8-fe04a6fdfd1b",
   "metadata": {
    "editable": true,
    "slideshow": {
     "slide_type": ""
    },
    "tags": [
     "clear_answer_cell"
    ]
   },
   "outputs": [
    {
     "data": {
      "text/plain": [
       "gdpPercap_1952     5142.469716\n",
       "gdpPercap_1957     6066.721495\n",
       "gdpPercap_1962     7515.733737\n",
       "gdpPercap_1967     9366.067033\n",
       "gdpPercap_1972    12326.379990\n",
       "gdpPercap_1977    14225.754515\n",
       "gdpPercap_1982    15322.824720\n",
       "gdpPercap_1987    16215.485895\n",
       "gdpPercap_1992    17550.155945\n",
       "gdpPercap_1997    19596.498550\n",
       "gdpPercap_2002    23674.863230\n",
       "gdpPercap_2007    28054.065790\n",
       "dtype: float64"
      ]
     },
     "execution_count": 37,
     "metadata": {},
     "output_type": "execute_result"
    }
   ],
   "source": [
    "data.median()"
   ]
  },
  {
   "cell_type": "code",
   "execution_count": 39,
   "id": "a5e89eeb-b316-4098-9f3d-a2a85dbc6aa0",
   "metadata": {},
   "outputs": [
    {
     "data": {
      "text/plain": [
       "28054.06579"
      ]
     },
     "execution_count": 39,
     "metadata": {},
     "output_type": "execute_result"
    }
   ],
   "source": [
    "# finding the median GDP per capita across all counrtries for 2007 \n",
    "data.loc[:, \"gdpPercap_2007\"].median()"
   ]
  },
  {
   "cell_type": "code",
   "execution_count": 42,
   "id": "3fbe224a-99f7-4368-b98f-e6d4bce4ef03",
   "metadata": {},
   "outputs": [
    {
     "data": {
      "text/html": [
       "<div>\n",
       "<style scoped>\n",
       "    .dataframe tbody tr th:only-of-type {\n",
       "        vertical-align: middle;\n",
       "    }\n",
       "\n",
       "    .dataframe tbody tr th {\n",
       "        vertical-align: top;\n",
       "    }\n",
       "\n",
       "    .dataframe thead th {\n",
       "        text-align: right;\n",
       "    }\n",
       "</style>\n",
       "<table border=\"1\" class=\"dataframe\">\n",
       "  <thead>\n",
       "    <tr style=\"text-align: right;\">\n",
       "      <th></th>\n",
       "      <th>gdpPercap_1952</th>\n",
       "      <th>gdpPercap_1957</th>\n",
       "      <th>gdpPercap_1962</th>\n",
       "      <th>gdpPercap_1967</th>\n",
       "      <th>gdpPercap_1972</th>\n",
       "      <th>gdpPercap_1977</th>\n",
       "      <th>gdpPercap_1982</th>\n",
       "      <th>gdpPercap_1987</th>\n",
       "      <th>gdpPercap_1992</th>\n",
       "      <th>gdpPercap_1997</th>\n",
       "      <th>gdpPercap_2002</th>\n",
       "      <th>gdpPercap_2007</th>\n",
       "    </tr>\n",
       "    <tr>\n",
       "      <th>country</th>\n",
       "      <th></th>\n",
       "      <th></th>\n",
       "      <th></th>\n",
       "      <th></th>\n",
       "      <th></th>\n",
       "      <th></th>\n",
       "      <th></th>\n",
       "      <th></th>\n",
       "      <th></th>\n",
       "      <th></th>\n",
       "      <th></th>\n",
       "      <th></th>\n",
       "    </tr>\n",
       "  </thead>\n",
       "  <tbody>\n",
       "    <tr>\n",
       "      <th>Albania</th>\n",
       "      <td>False</td>\n",
       "      <td>False</td>\n",
       "      <td>False</td>\n",
       "      <td>False</td>\n",
       "      <td>False</td>\n",
       "      <td>False</td>\n",
       "      <td>False</td>\n",
       "      <td>False</td>\n",
       "      <td>False</td>\n",
       "      <td>False</td>\n",
       "      <td>False</td>\n",
       "      <td>False</td>\n",
       "    </tr>\n",
       "    <tr>\n",
       "      <th>Austria</th>\n",
       "      <td>True</td>\n",
       "      <td>True</td>\n",
       "      <td>True</td>\n",
       "      <td>True</td>\n",
       "      <td>True</td>\n",
       "      <td>True</td>\n",
       "      <td>True</td>\n",
       "      <td>True</td>\n",
       "      <td>True</td>\n",
       "      <td>True</td>\n",
       "      <td>True</td>\n",
       "      <td>True</td>\n",
       "    </tr>\n",
       "    <tr>\n",
       "      <th>Belgium</th>\n",
       "      <td>True</td>\n",
       "      <td>True</td>\n",
       "      <td>True</td>\n",
       "      <td>True</td>\n",
       "      <td>True</td>\n",
       "      <td>True</td>\n",
       "      <td>True</td>\n",
       "      <td>True</td>\n",
       "      <td>True</td>\n",
       "      <td>True</td>\n",
       "      <td>True</td>\n",
       "      <td>True</td>\n",
       "    </tr>\n",
       "    <tr>\n",
       "      <th>Bosnia and Herzegovina</th>\n",
       "      <td>False</td>\n",
       "      <td>False</td>\n",
       "      <td>False</td>\n",
       "      <td>False</td>\n",
       "      <td>False</td>\n",
       "      <td>False</td>\n",
       "      <td>False</td>\n",
       "      <td>False</td>\n",
       "      <td>False</td>\n",
       "      <td>False</td>\n",
       "      <td>False</td>\n",
       "      <td>False</td>\n",
       "    </tr>\n",
       "    <tr>\n",
       "      <th>Bulgaria</th>\n",
       "      <td>False</td>\n",
       "      <td>False</td>\n",
       "      <td>False</td>\n",
       "      <td>False</td>\n",
       "      <td>False</td>\n",
       "      <td>False</td>\n",
       "      <td>False</td>\n",
       "      <td>False</td>\n",
       "      <td>False</td>\n",
       "      <td>False</td>\n",
       "      <td>False</td>\n",
       "      <td>False</td>\n",
       "    </tr>\n",
       "    <tr>\n",
       "      <th>Croatia</th>\n",
       "      <td>False</td>\n",
       "      <td>False</td>\n",
       "      <td>False</td>\n",
       "      <td>False</td>\n",
       "      <td>False</td>\n",
       "      <td>False</td>\n",
       "      <td>False</td>\n",
       "      <td>False</td>\n",
       "      <td>False</td>\n",
       "      <td>False</td>\n",
       "      <td>False</td>\n",
       "      <td>False</td>\n",
       "    </tr>\n",
       "    <tr>\n",
       "      <th>Czech Republic</th>\n",
       "      <td>True</td>\n",
       "      <td>True</td>\n",
       "      <td>True</td>\n",
       "      <td>True</td>\n",
       "      <td>True</td>\n",
       "      <td>True</td>\n",
       "      <td>False</td>\n",
       "      <td>False</td>\n",
       "      <td>False</td>\n",
       "      <td>False</td>\n",
       "      <td>False</td>\n",
       "      <td>False</td>\n",
       "    </tr>\n",
       "    <tr>\n",
       "      <th>Denmark</th>\n",
       "      <td>True</td>\n",
       "      <td>True</td>\n",
       "      <td>True</td>\n",
       "      <td>True</td>\n",
       "      <td>True</td>\n",
       "      <td>True</td>\n",
       "      <td>True</td>\n",
       "      <td>True</td>\n",
       "      <td>True</td>\n",
       "      <td>True</td>\n",
       "      <td>True</td>\n",
       "      <td>True</td>\n",
       "    </tr>\n",
       "    <tr>\n",
       "      <th>Finland</th>\n",
       "      <td>True</td>\n",
       "      <td>True</td>\n",
       "      <td>True</td>\n",
       "      <td>True</td>\n",
       "      <td>True</td>\n",
       "      <td>True</td>\n",
       "      <td>True</td>\n",
       "      <td>True</td>\n",
       "      <td>True</td>\n",
       "      <td>True</td>\n",
       "      <td>True</td>\n",
       "      <td>True</td>\n",
       "    </tr>\n",
       "    <tr>\n",
       "      <th>France</th>\n",
       "      <td>True</td>\n",
       "      <td>True</td>\n",
       "      <td>True</td>\n",
       "      <td>True</td>\n",
       "      <td>True</td>\n",
       "      <td>True</td>\n",
       "      <td>True</td>\n",
       "      <td>True</td>\n",
       "      <td>True</td>\n",
       "      <td>True</td>\n",
       "      <td>True</td>\n",
       "      <td>True</td>\n",
       "    </tr>\n",
       "    <tr>\n",
       "      <th>Germany</th>\n",
       "      <td>True</td>\n",
       "      <td>True</td>\n",
       "      <td>True</td>\n",
       "      <td>True</td>\n",
       "      <td>True</td>\n",
       "      <td>True</td>\n",
       "      <td>True</td>\n",
       "      <td>True</td>\n",
       "      <td>True</td>\n",
       "      <td>True</td>\n",
       "      <td>True</td>\n",
       "      <td>True</td>\n",
       "    </tr>\n",
       "    <tr>\n",
       "      <th>Greece</th>\n",
       "      <td>False</td>\n",
       "      <td>False</td>\n",
       "      <td>False</td>\n",
       "      <td>False</td>\n",
       "      <td>True</td>\n",
       "      <td>False</td>\n",
       "      <td>False</td>\n",
       "      <td>False</td>\n",
       "      <td>True</td>\n",
       "      <td>False</td>\n",
       "      <td>True</td>\n",
       "      <td>True</td>\n",
       "    </tr>\n",
       "    <tr>\n",
       "      <th>Hungary</th>\n",
       "      <td>False</td>\n",
       "      <td>False</td>\n",
       "      <td>False</td>\n",
       "      <td>False</td>\n",
       "      <td>False</td>\n",
       "      <td>False</td>\n",
       "      <td>False</td>\n",
       "      <td>False</td>\n",
       "      <td>False</td>\n",
       "      <td>False</td>\n",
       "      <td>False</td>\n",
       "      <td>False</td>\n",
       "    </tr>\n",
       "    <tr>\n",
       "      <th>Iceland</th>\n",
       "      <td>True</td>\n",
       "      <td>True</td>\n",
       "      <td>True</td>\n",
       "      <td>True</td>\n",
       "      <td>True</td>\n",
       "      <td>True</td>\n",
       "      <td>True</td>\n",
       "      <td>True</td>\n",
       "      <td>True</td>\n",
       "      <td>True</td>\n",
       "      <td>True</td>\n",
       "      <td>True</td>\n",
       "    </tr>\n",
       "    <tr>\n",
       "      <th>Ireland</th>\n",
       "      <td>False</td>\n",
       "      <td>False</td>\n",
       "      <td>False</td>\n",
       "      <td>False</td>\n",
       "      <td>False</td>\n",
       "      <td>False</td>\n",
       "      <td>False</td>\n",
       "      <td>False</td>\n",
       "      <td>True</td>\n",
       "      <td>True</td>\n",
       "      <td>True</td>\n",
       "      <td>True</td>\n",
       "    </tr>\n",
       "    <tr>\n",
       "      <th>Italy</th>\n",
       "      <td>False</td>\n",
       "      <td>False</td>\n",
       "      <td>False</td>\n",
       "      <td>False</td>\n",
       "      <td>False</td>\n",
       "      <td>False</td>\n",
       "      <td>True</td>\n",
       "      <td>True</td>\n",
       "      <td>True</td>\n",
       "      <td>True</td>\n",
       "      <td>True</td>\n",
       "      <td>True</td>\n",
       "    </tr>\n",
       "    <tr>\n",
       "      <th>Montenegro</th>\n",
       "      <td>False</td>\n",
       "      <td>False</td>\n",
       "      <td>False</td>\n",
       "      <td>False</td>\n",
       "      <td>False</td>\n",
       "      <td>False</td>\n",
       "      <td>False</td>\n",
       "      <td>False</td>\n",
       "      <td>False</td>\n",
       "      <td>False</td>\n",
       "      <td>False</td>\n",
       "      <td>False</td>\n",
       "    </tr>\n",
       "    <tr>\n",
       "      <th>Netherlands</th>\n",
       "      <td>True</td>\n",
       "      <td>True</td>\n",
       "      <td>True</td>\n",
       "      <td>True</td>\n",
       "      <td>True</td>\n",
       "      <td>True</td>\n",
       "      <td>True</td>\n",
       "      <td>True</td>\n",
       "      <td>True</td>\n",
       "      <td>True</td>\n",
       "      <td>True</td>\n",
       "      <td>True</td>\n",
       "    </tr>\n",
       "    <tr>\n",
       "      <th>Norway</th>\n",
       "      <td>True</td>\n",
       "      <td>True</td>\n",
       "      <td>True</td>\n",
       "      <td>True</td>\n",
       "      <td>True</td>\n",
       "      <td>True</td>\n",
       "      <td>True</td>\n",
       "      <td>True</td>\n",
       "      <td>True</td>\n",
       "      <td>True</td>\n",
       "      <td>True</td>\n",
       "      <td>True</td>\n",
       "    </tr>\n",
       "    <tr>\n",
       "      <th>Poland</th>\n",
       "      <td>False</td>\n",
       "      <td>False</td>\n",
       "      <td>False</td>\n",
       "      <td>False</td>\n",
       "      <td>False</td>\n",
       "      <td>False</td>\n",
       "      <td>False</td>\n",
       "      <td>False</td>\n",
       "      <td>False</td>\n",
       "      <td>False</td>\n",
       "      <td>False</td>\n",
       "      <td>False</td>\n",
       "    </tr>\n",
       "    <tr>\n",
       "      <th>Portugal</th>\n",
       "      <td>False</td>\n",
       "      <td>False</td>\n",
       "      <td>False</td>\n",
       "      <td>False</td>\n",
       "      <td>False</td>\n",
       "      <td>False</td>\n",
       "      <td>False</td>\n",
       "      <td>False</td>\n",
       "      <td>False</td>\n",
       "      <td>False</td>\n",
       "      <td>False</td>\n",
       "      <td>False</td>\n",
       "    </tr>\n",
       "    <tr>\n",
       "      <th>Romania</th>\n",
       "      <td>False</td>\n",
       "      <td>False</td>\n",
       "      <td>False</td>\n",
       "      <td>False</td>\n",
       "      <td>False</td>\n",
       "      <td>False</td>\n",
       "      <td>False</td>\n",
       "      <td>False</td>\n",
       "      <td>False</td>\n",
       "      <td>False</td>\n",
       "      <td>False</td>\n",
       "      <td>False</td>\n",
       "    </tr>\n",
       "    <tr>\n",
       "      <th>Serbia</th>\n",
       "      <td>False</td>\n",
       "      <td>False</td>\n",
       "      <td>False</td>\n",
       "      <td>False</td>\n",
       "      <td>False</td>\n",
       "      <td>False</td>\n",
       "      <td>False</td>\n",
       "      <td>False</td>\n",
       "      <td>False</td>\n",
       "      <td>False</td>\n",
       "      <td>False</td>\n",
       "      <td>False</td>\n",
       "    </tr>\n",
       "    <tr>\n",
       "      <th>Slovak Republic</th>\n",
       "      <td>False</td>\n",
       "      <td>False</td>\n",
       "      <td>False</td>\n",
       "      <td>False</td>\n",
       "      <td>False</td>\n",
       "      <td>False</td>\n",
       "      <td>False</td>\n",
       "      <td>False</td>\n",
       "      <td>False</td>\n",
       "      <td>False</td>\n",
       "      <td>False</td>\n",
       "      <td>False</td>\n",
       "    </tr>\n",
       "    <tr>\n",
       "      <th>Slovenia</th>\n",
       "      <td>False</td>\n",
       "      <td>False</td>\n",
       "      <td>False</td>\n",
       "      <td>False</td>\n",
       "      <td>False</td>\n",
       "      <td>True</td>\n",
       "      <td>True</td>\n",
       "      <td>True</td>\n",
       "      <td>False</td>\n",
       "      <td>False</td>\n",
       "      <td>False</td>\n",
       "      <td>True</td>\n",
       "    </tr>\n",
       "    <tr>\n",
       "      <th>Spain</th>\n",
       "      <td>False</td>\n",
       "      <td>False</td>\n",
       "      <td>False</td>\n",
       "      <td>False</td>\n",
       "      <td>False</td>\n",
       "      <td>False</td>\n",
       "      <td>False</td>\n",
       "      <td>False</td>\n",
       "      <td>True</td>\n",
       "      <td>True</td>\n",
       "      <td>True</td>\n",
       "      <td>True</td>\n",
       "    </tr>\n",
       "    <tr>\n",
       "      <th>Sweden</th>\n",
       "      <td>True</td>\n",
       "      <td>True</td>\n",
       "      <td>True</td>\n",
       "      <td>True</td>\n",
       "      <td>True</td>\n",
       "      <td>True</td>\n",
       "      <td>True</td>\n",
       "      <td>True</td>\n",
       "      <td>True</td>\n",
       "      <td>True</td>\n",
       "      <td>True</td>\n",
       "      <td>True</td>\n",
       "    </tr>\n",
       "    <tr>\n",
       "      <th>Switzerland</th>\n",
       "      <td>True</td>\n",
       "      <td>True</td>\n",
       "      <td>True</td>\n",
       "      <td>True</td>\n",
       "      <td>True</td>\n",
       "      <td>True</td>\n",
       "      <td>True</td>\n",
       "      <td>True</td>\n",
       "      <td>True</td>\n",
       "      <td>True</td>\n",
       "      <td>True</td>\n",
       "      <td>True</td>\n",
       "    </tr>\n",
       "    <tr>\n",
       "      <th>Turkey</th>\n",
       "      <td>False</td>\n",
       "      <td>False</td>\n",
       "      <td>False</td>\n",
       "      <td>False</td>\n",
       "      <td>False</td>\n",
       "      <td>False</td>\n",
       "      <td>False</td>\n",
       "      <td>False</td>\n",
       "      <td>False</td>\n",
       "      <td>False</td>\n",
       "      <td>False</td>\n",
       "      <td>False</td>\n",
       "    </tr>\n",
       "    <tr>\n",
       "      <th>United Kingdom</th>\n",
       "      <td>True</td>\n",
       "      <td>True</td>\n",
       "      <td>True</td>\n",
       "      <td>True</td>\n",
       "      <td>True</td>\n",
       "      <td>True</td>\n",
       "      <td>True</td>\n",
       "      <td>True</td>\n",
       "      <td>True</td>\n",
       "      <td>True</td>\n",
       "      <td>True</td>\n",
       "      <td>True</td>\n",
       "    </tr>\n",
       "  </tbody>\n",
       "</table>\n",
       "</div>"
      ],
      "text/plain": [
       "                        gdpPercap_1952  gdpPercap_1957  gdpPercap_1962  \\\n",
       "country                                                                  \n",
       "Albania                          False           False           False   \n",
       "Austria                           True            True            True   \n",
       "Belgium                           True            True            True   \n",
       "Bosnia and Herzegovina           False           False           False   \n",
       "Bulgaria                         False           False           False   \n",
       "Croatia                          False           False           False   \n",
       "Czech Republic                    True            True            True   \n",
       "Denmark                           True            True            True   \n",
       "Finland                           True            True            True   \n",
       "France                            True            True            True   \n",
       "Germany                           True            True            True   \n",
       "Greece                           False           False           False   \n",
       "Hungary                          False           False           False   \n",
       "Iceland                           True            True            True   \n",
       "Ireland                          False           False           False   \n",
       "Italy                            False           False           False   \n",
       "Montenegro                       False           False           False   \n",
       "Netherlands                       True            True            True   \n",
       "Norway                            True            True            True   \n",
       "Poland                           False           False           False   \n",
       "Portugal                         False           False           False   \n",
       "Romania                          False           False           False   \n",
       "Serbia                           False           False           False   \n",
       "Slovak Republic                  False           False           False   \n",
       "Slovenia                         False           False           False   \n",
       "Spain                            False           False           False   \n",
       "Sweden                            True            True            True   \n",
       "Switzerland                       True            True            True   \n",
       "Turkey                           False           False           False   \n",
       "United Kingdom                    True            True            True   \n",
       "\n",
       "                        gdpPercap_1967  gdpPercap_1972  gdpPercap_1977  \\\n",
       "country                                                                  \n",
       "Albania                          False           False           False   \n",
       "Austria                           True            True            True   \n",
       "Belgium                           True            True            True   \n",
       "Bosnia and Herzegovina           False           False           False   \n",
       "Bulgaria                         False           False           False   \n",
       "Croatia                          False           False           False   \n",
       "Czech Republic                    True            True            True   \n",
       "Denmark                           True            True            True   \n",
       "Finland                           True            True            True   \n",
       "France                            True            True            True   \n",
       "Germany                           True            True            True   \n",
       "Greece                           False            True           False   \n",
       "Hungary                          False           False           False   \n",
       "Iceland                           True            True            True   \n",
       "Ireland                          False           False           False   \n",
       "Italy                            False           False           False   \n",
       "Montenegro                       False           False           False   \n",
       "Netherlands                       True            True            True   \n",
       "Norway                            True            True            True   \n",
       "Poland                           False           False           False   \n",
       "Portugal                         False           False           False   \n",
       "Romania                          False           False           False   \n",
       "Serbia                           False           False           False   \n",
       "Slovak Republic                  False           False           False   \n",
       "Slovenia                         False           False            True   \n",
       "Spain                            False           False           False   \n",
       "Sweden                            True            True            True   \n",
       "Switzerland                       True            True            True   \n",
       "Turkey                           False           False           False   \n",
       "United Kingdom                    True            True            True   \n",
       "\n",
       "                        gdpPercap_1982  gdpPercap_1987  gdpPercap_1992  \\\n",
       "country                                                                  \n",
       "Albania                          False           False           False   \n",
       "Austria                           True            True            True   \n",
       "Belgium                           True            True            True   \n",
       "Bosnia and Herzegovina           False           False           False   \n",
       "Bulgaria                         False           False           False   \n",
       "Croatia                          False           False           False   \n",
       "Czech Republic                   False           False           False   \n",
       "Denmark                           True            True            True   \n",
       "Finland                           True            True            True   \n",
       "France                            True            True            True   \n",
       "Germany                           True            True            True   \n",
       "Greece                           False           False            True   \n",
       "Hungary                          False           False           False   \n",
       "Iceland                           True            True            True   \n",
       "Ireland                          False           False            True   \n",
       "Italy                             True            True            True   \n",
       "Montenegro                       False           False           False   \n",
       "Netherlands                       True            True            True   \n",
       "Norway                            True            True            True   \n",
       "Poland                           False           False           False   \n",
       "Portugal                         False           False           False   \n",
       "Romania                          False           False           False   \n",
       "Serbia                           False           False           False   \n",
       "Slovak Republic                  False           False           False   \n",
       "Slovenia                          True            True           False   \n",
       "Spain                            False           False            True   \n",
       "Sweden                            True            True            True   \n",
       "Switzerland                       True            True            True   \n",
       "Turkey                           False           False           False   \n",
       "United Kingdom                    True            True            True   \n",
       "\n",
       "                        gdpPercap_1997  gdpPercap_2002  gdpPercap_2007  \n",
       "country                                                                 \n",
       "Albania                          False           False           False  \n",
       "Austria                           True            True            True  \n",
       "Belgium                           True            True            True  \n",
       "Bosnia and Herzegovina           False           False           False  \n",
       "Bulgaria                         False           False           False  \n",
       "Croatia                          False           False           False  \n",
       "Czech Republic                   False           False           False  \n",
       "Denmark                           True            True            True  \n",
       "Finland                           True            True            True  \n",
       "France                            True            True            True  \n",
       "Germany                           True            True            True  \n",
       "Greece                           False            True            True  \n",
       "Hungary                          False           False           False  \n",
       "Iceland                           True            True            True  \n",
       "Ireland                           True            True            True  \n",
       "Italy                             True            True            True  \n",
       "Montenegro                       False           False           False  \n",
       "Netherlands                       True            True            True  \n",
       "Norway                            True            True            True  \n",
       "Poland                           False           False           False  \n",
       "Portugal                         False           False           False  \n",
       "Romania                          False           False           False  \n",
       "Serbia                           False           False           False  \n",
       "Slovak Republic                  False           False           False  \n",
       "Slovenia                         False           False            True  \n",
       "Spain                             True            True            True  \n",
       "Sweden                            True            True            True  \n",
       "Switzerland                       True            True            True  \n",
       "Turkey                           False           False           False  \n",
       "United Kingdom                    True            True            True  "
      ]
     },
     "execution_count": 42,
     "metadata": {},
     "output_type": "execute_result"
    }
   ],
   "source": [
    "mask_higher = data > data.mean()\n",
    "mask_higher"
   ]
  },
  {
   "cell_type": "code",
   "execution_count": 48,
   "id": "005201bc-dcbd-477b-bdc1-999e32eb4005",
   "metadata": {},
   "outputs": [
    {
     "data": {
      "text/plain": [
       "country\n",
       "Albania                   0.000000\n",
       "Austria                   1.000000\n",
       "Belgium                   1.000000\n",
       "Bosnia and Herzegovina    0.000000\n",
       "Bulgaria                  0.000000\n",
       "Croatia                   0.000000\n",
       "Czech Republic            0.500000\n",
       "Denmark                   1.000000\n",
       "Finland                   1.000000\n",
       "France                    1.000000\n",
       "Germany                   1.000000\n",
       "Greece                    0.333333\n",
       "Hungary                   0.000000\n",
       "Iceland                   1.000000\n",
       "Ireland                   0.333333\n",
       "Italy                     0.500000\n",
       "Montenegro                0.000000\n",
       "Netherlands               1.000000\n",
       "Norway                    1.000000\n",
       "Poland                    0.000000\n",
       "Portugal                  0.000000\n",
       "Romania                   0.000000\n",
       "Serbia                    0.000000\n",
       "Slovak Republic           0.000000\n",
       "Slovenia                  0.333333\n",
       "Spain                     0.333333\n",
       "Sweden                    1.000000\n",
       "Switzerland               1.000000\n",
       "Turkey                    0.000000\n",
       "United Kingdom            1.000000\n",
       "dtype: float64"
      ]
     },
     "execution_count": 48,
     "metadata": {},
     "output_type": "execute_result"
    }
   ],
   "source": [
    "wealth_score = mask_higher.aggregate('sum', axis=\"columns\") / len(data.columns)\n",
    "wealth_score"
   ]
  },
  {
   "cell_type": "code",
   "execution_count": 51,
   "id": "5c3caf4a-e4d3-44de-a535-117214f21103",
   "metadata": {},
   "outputs": [
    {
     "ename": "AttributeError",
     "evalue": "module 'pandas' has no attribute 'aggregate'",
     "output_type": "error",
     "traceback": [
      "\u001b[0;31m---------------------------------------------------------------------------\u001b[0m",
      "\u001b[0;31mAttributeError\u001b[0m                            Traceback (most recent call last)",
      "Cell \u001b[0;32mIn[51], line 1\u001b[0m\n\u001b[0;32m----> 1\u001b[0m help(\u001b[43mpd\u001b[49m\u001b[38;5;241;43m.\u001b[39;49m\u001b[43maggregate\u001b[49m)\n",
      "\u001b[0;31mAttributeError\u001b[0m: module 'pandas' has no attribute 'aggregate'"
     ]
    }
   ],
   "source": []
  },
  {
   "cell_type": "code",
   "execution_count": null,
   "id": "f867e1cf-609f-4ac1-9be3-24bb5dc727ac",
   "metadata": {},
   "outputs": [],
   "source": []
  }
 ],
 "metadata": {
  "kernelspec": {
   "display_name": "Python 3 + Jaspy",
   "language": "python",
   "name": "jaspy"
  },
  "language_info": {
   "codemirror_mode": {
    "name": "ipython",
    "version": 3
   },
   "file_extension": ".py",
   "mimetype": "text/x-python",
   "name": "python",
   "nbconvert_exporter": "python",
   "pygments_lexer": "ipython3",
   "version": "3.11.9"
  }
 },
 "nbformat": 4,
 "nbformat_minor": 5
}
